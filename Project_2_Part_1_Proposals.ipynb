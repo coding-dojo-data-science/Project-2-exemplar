{
  "nbformat": 4,
  "nbformat_minor": 0,
  "metadata": {
    "colab": {
      "provenance": [],
      "collapsed_sections": [],
      "authorship_tag": "ABX9TyOswLfPDVZQ4nEAe9eJgo6b",
      "include_colab_link": true
    },
    "kernelspec": {
      "name": "python3",
      "display_name": "Python 3"
    },
    "language_info": {
      "name": "python"
    }
  },
  "cells": [
    {
      "cell_type": "markdown",
      "metadata": {
        "id": "view-in-github",
        "colab_type": "text"
      },
      "source": [
        "<a href=\"https://colab.research.google.com/github/tschelli/Project-2-ML-/blob/main/Project_2_Part_1_Proposals.ipynb\" target=\"_parent\"><img src=\"https://colab.research.google.com/assets/colab-badge.svg\" alt=\"Open In Colab\"/></a>"
      ]
    },
    {
      "cell_type": "markdown",
      "source": [
        "#Project 2 - Proposal Datasets\n",
        "\n",
        "Coding Dojo Data Science Project 2\n",
        "- Name: Tyler Schelling\n",
        "- Date: 10/27/2022"
      ],
      "metadata": {
        "id": "5jaqY80DGuY6"
      }
    },
    {
      "cell_type": "markdown",
      "source": [
        "##Mount Drive | Import Libraries | Download Data"
      ],
      "metadata": {
        "id": "BCMYS9IhVnuy"
      }
    },
    {
      "cell_type": "code",
      "source": [
        "from google.colab import drive\n",
        "drive.mount('/content/drive')"
      ],
      "metadata": {
        "colab": {
          "base_uri": "https://localhost:8080/"
        },
        "id": "zKOF8WFVVuHd",
        "outputId": "6def7096-9efa-4b00-fe74-8bd49a0d3acb"
      },
      "execution_count": 2,
      "outputs": [
        {
          "output_type": "stream",
          "name": "stdout",
          "text": [
            "Mounted at /content/drive\n"
          ]
        }
      ]
    },
    {
      "cell_type": "code",
      "source": [
        "# Imports\n",
        "import pandas as pd\n",
        "import numpy as np"
      ],
      "metadata": {
        "id": "DxoieRcgZV1x"
      },
      "execution_count": 3,
      "outputs": []
    },
    {
      "cell_type": "markdown",
      "source": [
        "##First Choice: Dataset 1 - Stroke Prediction Dataset"
      ],
      "metadata": {
        "id": "epA6zoxYViqg"
      }
    },
    {
      "cell_type": "code",
      "source": [
        "stroke_filename = '/content/drive/MyDrive/02. Life/Coding Dojo/00 Datasets/healthcare-dataset-stroke-data.csv'\n",
        "stroke_df = pd.read_csv(stroke_filename)\n",
        "stroke_df.head()"
      ],
      "metadata": {
        "colab": {
          "base_uri": "https://localhost:8080/",
          "height": 206
        },
        "id": "kW6TOPhnZVvd",
        "outputId": "095c5515-6a7f-4bf4-e2e2-0c96fb853cc3"
      },
      "execution_count": 4,
      "outputs": [
        {
          "output_type": "execute_result",
          "data": {
            "text/plain": [
              "      id  gender   age  hypertension  heart_disease ever_married  \\\n",
              "0   9046    Male  67.0             0              1          Yes   \n",
              "1  51676  Female  61.0             0              0          Yes   \n",
              "2  31112    Male  80.0             0              1          Yes   \n",
              "3  60182  Female  49.0             0              0          Yes   \n",
              "4   1665  Female  79.0             1              0          Yes   \n",
              "\n",
              "       work_type Residence_type  avg_glucose_level   bmi   smoking_status  \\\n",
              "0        Private          Urban             228.69  36.6  formerly smoked   \n",
              "1  Self-employed          Rural             202.21   NaN     never smoked   \n",
              "2        Private          Rural             105.92  32.5     never smoked   \n",
              "3        Private          Urban             171.23  34.4           smokes   \n",
              "4  Self-employed          Rural             174.12  24.0     never smoked   \n",
              "\n",
              "   stroke  \n",
              "0       1  \n",
              "1       1  \n",
              "2       1  \n",
              "3       1  \n",
              "4       1  "
            ],
            "text/html": [
              "\n",
              "  <div id=\"df-07525909-3f69-421e-a5a4-2759fadf8a6a\">\n",
              "    <div class=\"colab-df-container\">\n",
              "      <div>\n",
              "<style scoped>\n",
              "    .dataframe tbody tr th:only-of-type {\n",
              "        vertical-align: middle;\n",
              "    }\n",
              "\n",
              "    .dataframe tbody tr th {\n",
              "        vertical-align: top;\n",
              "    }\n",
              "\n",
              "    .dataframe thead th {\n",
              "        text-align: right;\n",
              "    }\n",
              "</style>\n",
              "<table border=\"1\" class=\"dataframe\">\n",
              "  <thead>\n",
              "    <tr style=\"text-align: right;\">\n",
              "      <th></th>\n",
              "      <th>id</th>\n",
              "      <th>gender</th>\n",
              "      <th>age</th>\n",
              "      <th>hypertension</th>\n",
              "      <th>heart_disease</th>\n",
              "      <th>ever_married</th>\n",
              "      <th>work_type</th>\n",
              "      <th>Residence_type</th>\n",
              "      <th>avg_glucose_level</th>\n",
              "      <th>bmi</th>\n",
              "      <th>smoking_status</th>\n",
              "      <th>stroke</th>\n",
              "    </tr>\n",
              "  </thead>\n",
              "  <tbody>\n",
              "    <tr>\n",
              "      <th>0</th>\n",
              "      <td>9046</td>\n",
              "      <td>Male</td>\n",
              "      <td>67.0</td>\n",
              "      <td>0</td>\n",
              "      <td>1</td>\n",
              "      <td>Yes</td>\n",
              "      <td>Private</td>\n",
              "      <td>Urban</td>\n",
              "      <td>228.69</td>\n",
              "      <td>36.6</td>\n",
              "      <td>formerly smoked</td>\n",
              "      <td>1</td>\n",
              "    </tr>\n",
              "    <tr>\n",
              "      <th>1</th>\n",
              "      <td>51676</td>\n",
              "      <td>Female</td>\n",
              "      <td>61.0</td>\n",
              "      <td>0</td>\n",
              "      <td>0</td>\n",
              "      <td>Yes</td>\n",
              "      <td>Self-employed</td>\n",
              "      <td>Rural</td>\n",
              "      <td>202.21</td>\n",
              "      <td>NaN</td>\n",
              "      <td>never smoked</td>\n",
              "      <td>1</td>\n",
              "    </tr>\n",
              "    <tr>\n",
              "      <th>2</th>\n",
              "      <td>31112</td>\n",
              "      <td>Male</td>\n",
              "      <td>80.0</td>\n",
              "      <td>0</td>\n",
              "      <td>1</td>\n",
              "      <td>Yes</td>\n",
              "      <td>Private</td>\n",
              "      <td>Rural</td>\n",
              "      <td>105.92</td>\n",
              "      <td>32.5</td>\n",
              "      <td>never smoked</td>\n",
              "      <td>1</td>\n",
              "    </tr>\n",
              "    <tr>\n",
              "      <th>3</th>\n",
              "      <td>60182</td>\n",
              "      <td>Female</td>\n",
              "      <td>49.0</td>\n",
              "      <td>0</td>\n",
              "      <td>0</td>\n",
              "      <td>Yes</td>\n",
              "      <td>Private</td>\n",
              "      <td>Urban</td>\n",
              "      <td>171.23</td>\n",
              "      <td>34.4</td>\n",
              "      <td>smokes</td>\n",
              "      <td>1</td>\n",
              "    </tr>\n",
              "    <tr>\n",
              "      <th>4</th>\n",
              "      <td>1665</td>\n",
              "      <td>Female</td>\n",
              "      <td>79.0</td>\n",
              "      <td>1</td>\n",
              "      <td>0</td>\n",
              "      <td>Yes</td>\n",
              "      <td>Self-employed</td>\n",
              "      <td>Rural</td>\n",
              "      <td>174.12</td>\n",
              "      <td>24.0</td>\n",
              "      <td>never smoked</td>\n",
              "      <td>1</td>\n",
              "    </tr>\n",
              "  </tbody>\n",
              "</table>\n",
              "</div>\n",
              "      <button class=\"colab-df-convert\" onclick=\"convertToInteractive('df-07525909-3f69-421e-a5a4-2759fadf8a6a')\"\n",
              "              title=\"Convert this dataframe to an interactive table.\"\n",
              "              style=\"display:none;\">\n",
              "        \n",
              "  <svg xmlns=\"http://www.w3.org/2000/svg\" height=\"24px\"viewBox=\"0 0 24 24\"\n",
              "       width=\"24px\">\n",
              "    <path d=\"M0 0h24v24H0V0z\" fill=\"none\"/>\n",
              "    <path d=\"M18.56 5.44l.94 2.06.94-2.06 2.06-.94-2.06-.94-.94-2.06-.94 2.06-2.06.94zm-11 1L8.5 8.5l.94-2.06 2.06-.94-2.06-.94L8.5 2.5l-.94 2.06-2.06.94zm10 10l.94 2.06.94-2.06 2.06-.94-2.06-.94-.94-2.06-.94 2.06-2.06.94z\"/><path d=\"M17.41 7.96l-1.37-1.37c-.4-.4-.92-.59-1.43-.59-.52 0-1.04.2-1.43.59L10.3 9.45l-7.72 7.72c-.78.78-.78 2.05 0 2.83L4 21.41c.39.39.9.59 1.41.59.51 0 1.02-.2 1.41-.59l7.78-7.78 2.81-2.81c.8-.78.8-2.07 0-2.86zM5.41 20L4 18.59l7.72-7.72 1.47 1.35L5.41 20z\"/>\n",
              "  </svg>\n",
              "      </button>\n",
              "      \n",
              "  <style>\n",
              "    .colab-df-container {\n",
              "      display:flex;\n",
              "      flex-wrap:wrap;\n",
              "      gap: 12px;\n",
              "    }\n",
              "\n",
              "    .colab-df-convert {\n",
              "      background-color: #E8F0FE;\n",
              "      border: none;\n",
              "      border-radius: 50%;\n",
              "      cursor: pointer;\n",
              "      display: none;\n",
              "      fill: #1967D2;\n",
              "      height: 32px;\n",
              "      padding: 0 0 0 0;\n",
              "      width: 32px;\n",
              "    }\n",
              "\n",
              "    .colab-df-convert:hover {\n",
              "      background-color: #E2EBFA;\n",
              "      box-shadow: 0px 1px 2px rgba(60, 64, 67, 0.3), 0px 1px 3px 1px rgba(60, 64, 67, 0.15);\n",
              "      fill: #174EA6;\n",
              "    }\n",
              "\n",
              "    [theme=dark] .colab-df-convert {\n",
              "      background-color: #3B4455;\n",
              "      fill: #D2E3FC;\n",
              "    }\n",
              "\n",
              "    [theme=dark] .colab-df-convert:hover {\n",
              "      background-color: #434B5C;\n",
              "      box-shadow: 0px 1px 3px 1px rgba(0, 0, 0, 0.15);\n",
              "      filter: drop-shadow(0px 1px 2px rgba(0, 0, 0, 0.3));\n",
              "      fill: #FFFFFF;\n",
              "    }\n",
              "  </style>\n",
              "\n",
              "      <script>\n",
              "        const buttonEl =\n",
              "          document.querySelector('#df-07525909-3f69-421e-a5a4-2759fadf8a6a button.colab-df-convert');\n",
              "        buttonEl.style.display =\n",
              "          google.colab.kernel.accessAllowed ? 'block' : 'none';\n",
              "\n",
              "        async function convertToInteractive(key) {\n",
              "          const element = document.querySelector('#df-07525909-3f69-421e-a5a4-2759fadf8a6a');\n",
              "          const dataTable =\n",
              "            await google.colab.kernel.invokeFunction('convertToInteractive',\n",
              "                                                     [key], {});\n",
              "          if (!dataTable) return;\n",
              "\n",
              "          const docLinkHtml = 'Like what you see? Visit the ' +\n",
              "            '<a target=\"_blank\" href=https://colab.research.google.com/notebooks/data_table.ipynb>data table notebook</a>'\n",
              "            + ' to learn more about interactive tables.';\n",
              "          element.innerHTML = '';\n",
              "          dataTable['output_type'] = 'display_data';\n",
              "          await google.colab.output.renderOutput(dataTable, element);\n",
              "          const docLink = document.createElement('div');\n",
              "          docLink.innerHTML = docLinkHtml;\n",
              "          element.appendChild(docLink);\n",
              "        }\n",
              "      </script>\n",
              "    </div>\n",
              "  </div>\n",
              "  "
            ]
          },
          "metadata": {},
          "execution_count": 4
        }
      ]
    },
    {
      "cell_type": "code",
      "execution_count": 5,
      "metadata": {
        "colab": {
          "base_uri": "https://localhost:8080/"
        },
        "id": "xvUUjH0uGkVL",
        "outputId": "3ade20bc-19ec-490a-cd1d-5da2ade9418f"
      },
      "outputs": [
        {
          "output_type": "execute_result",
          "data": {
            "text/plain": [
              "(5110, 12)"
            ]
          },
          "metadata": {},
          "execution_count": 5
        }
      ],
      "source": [
        "stroke_df.shape"
      ]
    },
    {
      "cell_type": "markdown",
      "source": [
        "###Dataset Source"
      ],
      "metadata": {
        "id": "re8tiSOravtk"
      }
    },
    {
      "cell_type": "markdown",
      "source": [
        "The dataset can be found [here](https://www.kaggle.com/datasets/fedesoriano/stroke-prediction-dataset)."
      ],
      "metadata": {
        "id": "jE07no1DaViH"
      }
    },
    {
      "cell_type": "markdown",
      "source": [
        "###Data Description"
      ],
      "metadata": {
        "id": "IMD1eSyXaum0"
      }
    },
    {
      "cell_type": "markdown",
      "source": [
        "This dataset is used to predict whether a patient is likely to have a stroke based on the input parameters like gender, age, various diseases, and smoking status. "
      ],
      "metadata": {
        "id": "_gADYpf4cBpo"
      }
    },
    {
      "cell_type": "markdown",
      "source": [
        "Column Name | Description\n",
        "---|---\n",
        "id | Unique identifier\n",
        "gender| 'Male', 'Female', or 'Other'\n",
        "age| Age of the patient\n",
        "hypertension | 0 if patient doesn't have hypertension, 1 if the patient has hypertension\n",
        "ever_married | 'No' or 'Yes'\n",
        "work_type | 'children', 'govt_job', 'never_worked', 'private', or 'self-employed'\n",
        "Residence_type | 'Rural' or 'Urban'\n",
        "avg_glucose_level | average glucose level in blood\n",
        "bmi | body mass index\n",
        "smoking_status | 'formerly smoke', 'never smoked', 'smokes', or 'unknown'\n",
        "stroke | 1 if the patient had a stroke or 0 if not"
      ],
      "metadata": {
        "id": "u7Fy70SoceHN"
      }
    },
    {
      "cell_type": "markdown",
      "source": [
        "###Target"
      ],
      "metadata": {
        "id": "4PNZGm-MnK7g"
      }
    },
    {
      "cell_type": "markdown",
      "source": [
        "The target will be the `stroke` column to predict whether or not the patient had a stroke."
      ],
      "metadata": {
        "id": "QqWg3hFXnMe0"
      }
    },
    {
      "cell_type": "markdown",
      "source": [
        "###Row Represents"
      ],
      "metadata": {
        "id": "wc3ty45Jnw8w"
      }
    },
    {
      "cell_type": "markdown",
      "source": [
        "A row represents a patient who has or has not had a stroke."
      ],
      "metadata": {
        "id": "jMwZLxpbnyXx"
      }
    },
    {
      "cell_type": "markdown",
      "source": [
        "###Type of Problem"
      ],
      "metadata": {
        "id": "B5aZermQn2GW"
      }
    },
    {
      "cell_type": "markdown",
      "source": [
        "This will be a classification problem to determine if a patient had a stroke or not."
      ],
      "metadata": {
        "id": "__xxd71Kn46f"
      }
    },
    {
      "cell_type": "markdown",
      "source": [
        "###Number of Features"
      ],
      "metadata": {
        "id": "wZYuOTDjociB"
      }
    },
    {
      "cell_type": "markdown",
      "source": [
        "There are 11 features associated with the dataset. However, some features may not be applicable to machine learning modeling."
      ],
      "metadata": {
        "id": "1sTh8f6Iod-j"
      }
    },
    {
      "cell_type": "markdown",
      "source": [
        "###Number of Rows"
      ],
      "metadata": {
        "id": "cUecptgaohG8"
      }
    },
    {
      "cell_type": "markdown",
      "source": [
        "There are 5110 rows in the dataset."
      ],
      "metadata": {
        "id": "4Fs8d9uoojc7"
      }
    },
    {
      "cell_type": "markdown",
      "source": [
        "###Potential Challenges"
      ],
      "metadata": {
        "id": "LbF4oPkqovvD"
      }
    },
    {
      "cell_type": "code",
      "source": [
        "stroke_df['stroke'].value_counts()"
      ],
      "metadata": {
        "colab": {
          "base_uri": "https://localhost:8080/"
        },
        "id": "TuDjtmY1rCdQ",
        "outputId": "de58012c-46ea-4dd5-98d8-d52a8247256e"
      },
      "execution_count": 16,
      "outputs": [
        {
          "output_type": "execute_result",
          "data": {
            "text/plain": [
              "0    4861\n",
              "1     249\n",
              "Name: stroke, dtype: int64"
            ]
          },
          "metadata": {},
          "execution_count": 16
        }
      ]
    },
    {
      "cell_type": "markdown",
      "source": [
        "- Unknown smoking status may have a negative impact on the predictive capabilities of the model.\n",
        "- Largely unbalanced target variable in the dataset."
      ],
      "metadata": {
        "id": "--P5I4HIowJN"
      }
    },
    {
      "cell_type": "markdown",
      "source": [
        "##Second Choice: Dataset 2 - Cirrhosis Prediction Dataset"
      ],
      "metadata": {
        "id": "NGJSRgT2Z0By"
      }
    },
    {
      "cell_type": "code",
      "source": [
        "cirr_filename = '/content/drive/MyDrive/02. Life/Coding Dojo/00 Datasets/cirrhosis.csv'\n",
        "cirr_df = pd.read_csv(car_filename)\n",
        "cirr_df.head()"
      ],
      "metadata": {
        "colab": {
          "base_uri": "https://localhost:8080/",
          "height": 206
        },
        "id": "DINQ0xn2aF6h",
        "outputId": "b577ad91-c4b9-4977-8ea6-69b42f7e0687"
      },
      "execution_count": 12,
      "outputs": [
        {
          "output_type": "execute_result",
          "data": {
            "text/plain": [
              "   ID  N_Days Status             Drug    Age Sex Ascites Hepatomegaly Spiders  \\\n",
              "0   1     400      D  D-penicillamine  21464   F       Y            Y       Y   \n",
              "1   2    4500      C  D-penicillamine  20617   F       N            Y       Y   \n",
              "2   3    1012      D  D-penicillamine  25594   M       N            N       N   \n",
              "3   4    1925      D  D-penicillamine  19994   F       N            Y       Y   \n",
              "4   5    1504     CL          Placebo  13918   F       N            Y       Y   \n",
              "\n",
              "  Edema  Bilirubin  Cholesterol  Albumin  Copper  Alk_Phos    SGOT  \\\n",
              "0     Y       14.5        261.0     2.60   156.0    1718.0  137.95   \n",
              "1     N        1.1        302.0     4.14    54.0    7394.8  113.52   \n",
              "2     S        1.4        176.0     3.48   210.0     516.0   96.10   \n",
              "3     S        1.8        244.0     2.54    64.0    6121.8   60.63   \n",
              "4     N        3.4        279.0     3.53   143.0     671.0  113.15   \n",
              "\n",
              "   Tryglicerides  Platelets  Prothrombin  Stage  \n",
              "0          172.0      190.0         12.2    4.0  \n",
              "1           88.0      221.0         10.6    3.0  \n",
              "2           55.0      151.0         12.0    4.0  \n",
              "3           92.0      183.0         10.3    4.0  \n",
              "4           72.0      136.0         10.9    3.0  "
            ],
            "text/html": [
              "\n",
              "  <div id=\"df-8fd4dab9-fe8e-41c4-a651-fd6534c0bc5f\">\n",
              "    <div class=\"colab-df-container\">\n",
              "      <div>\n",
              "<style scoped>\n",
              "    .dataframe tbody tr th:only-of-type {\n",
              "        vertical-align: middle;\n",
              "    }\n",
              "\n",
              "    .dataframe tbody tr th {\n",
              "        vertical-align: top;\n",
              "    }\n",
              "\n",
              "    .dataframe thead th {\n",
              "        text-align: right;\n",
              "    }\n",
              "</style>\n",
              "<table border=\"1\" class=\"dataframe\">\n",
              "  <thead>\n",
              "    <tr style=\"text-align: right;\">\n",
              "      <th></th>\n",
              "      <th>ID</th>\n",
              "      <th>N_Days</th>\n",
              "      <th>Status</th>\n",
              "      <th>Drug</th>\n",
              "      <th>Age</th>\n",
              "      <th>Sex</th>\n",
              "      <th>Ascites</th>\n",
              "      <th>Hepatomegaly</th>\n",
              "      <th>Spiders</th>\n",
              "      <th>Edema</th>\n",
              "      <th>Bilirubin</th>\n",
              "      <th>Cholesterol</th>\n",
              "      <th>Albumin</th>\n",
              "      <th>Copper</th>\n",
              "      <th>Alk_Phos</th>\n",
              "      <th>SGOT</th>\n",
              "      <th>Tryglicerides</th>\n",
              "      <th>Platelets</th>\n",
              "      <th>Prothrombin</th>\n",
              "      <th>Stage</th>\n",
              "    </tr>\n",
              "  </thead>\n",
              "  <tbody>\n",
              "    <tr>\n",
              "      <th>0</th>\n",
              "      <td>1</td>\n",
              "      <td>400</td>\n",
              "      <td>D</td>\n",
              "      <td>D-penicillamine</td>\n",
              "      <td>21464</td>\n",
              "      <td>F</td>\n",
              "      <td>Y</td>\n",
              "      <td>Y</td>\n",
              "      <td>Y</td>\n",
              "      <td>Y</td>\n",
              "      <td>14.5</td>\n",
              "      <td>261.0</td>\n",
              "      <td>2.60</td>\n",
              "      <td>156.0</td>\n",
              "      <td>1718.0</td>\n",
              "      <td>137.95</td>\n",
              "      <td>172.0</td>\n",
              "      <td>190.0</td>\n",
              "      <td>12.2</td>\n",
              "      <td>4.0</td>\n",
              "    </tr>\n",
              "    <tr>\n",
              "      <th>1</th>\n",
              "      <td>2</td>\n",
              "      <td>4500</td>\n",
              "      <td>C</td>\n",
              "      <td>D-penicillamine</td>\n",
              "      <td>20617</td>\n",
              "      <td>F</td>\n",
              "      <td>N</td>\n",
              "      <td>Y</td>\n",
              "      <td>Y</td>\n",
              "      <td>N</td>\n",
              "      <td>1.1</td>\n",
              "      <td>302.0</td>\n",
              "      <td>4.14</td>\n",
              "      <td>54.0</td>\n",
              "      <td>7394.8</td>\n",
              "      <td>113.52</td>\n",
              "      <td>88.0</td>\n",
              "      <td>221.0</td>\n",
              "      <td>10.6</td>\n",
              "      <td>3.0</td>\n",
              "    </tr>\n",
              "    <tr>\n",
              "      <th>2</th>\n",
              "      <td>3</td>\n",
              "      <td>1012</td>\n",
              "      <td>D</td>\n",
              "      <td>D-penicillamine</td>\n",
              "      <td>25594</td>\n",
              "      <td>M</td>\n",
              "      <td>N</td>\n",
              "      <td>N</td>\n",
              "      <td>N</td>\n",
              "      <td>S</td>\n",
              "      <td>1.4</td>\n",
              "      <td>176.0</td>\n",
              "      <td>3.48</td>\n",
              "      <td>210.0</td>\n",
              "      <td>516.0</td>\n",
              "      <td>96.10</td>\n",
              "      <td>55.0</td>\n",
              "      <td>151.0</td>\n",
              "      <td>12.0</td>\n",
              "      <td>4.0</td>\n",
              "    </tr>\n",
              "    <tr>\n",
              "      <th>3</th>\n",
              "      <td>4</td>\n",
              "      <td>1925</td>\n",
              "      <td>D</td>\n",
              "      <td>D-penicillamine</td>\n",
              "      <td>19994</td>\n",
              "      <td>F</td>\n",
              "      <td>N</td>\n",
              "      <td>Y</td>\n",
              "      <td>Y</td>\n",
              "      <td>S</td>\n",
              "      <td>1.8</td>\n",
              "      <td>244.0</td>\n",
              "      <td>2.54</td>\n",
              "      <td>64.0</td>\n",
              "      <td>6121.8</td>\n",
              "      <td>60.63</td>\n",
              "      <td>92.0</td>\n",
              "      <td>183.0</td>\n",
              "      <td>10.3</td>\n",
              "      <td>4.0</td>\n",
              "    </tr>\n",
              "    <tr>\n",
              "      <th>4</th>\n",
              "      <td>5</td>\n",
              "      <td>1504</td>\n",
              "      <td>CL</td>\n",
              "      <td>Placebo</td>\n",
              "      <td>13918</td>\n",
              "      <td>F</td>\n",
              "      <td>N</td>\n",
              "      <td>Y</td>\n",
              "      <td>Y</td>\n",
              "      <td>N</td>\n",
              "      <td>3.4</td>\n",
              "      <td>279.0</td>\n",
              "      <td>3.53</td>\n",
              "      <td>143.0</td>\n",
              "      <td>671.0</td>\n",
              "      <td>113.15</td>\n",
              "      <td>72.0</td>\n",
              "      <td>136.0</td>\n",
              "      <td>10.9</td>\n",
              "      <td>3.0</td>\n",
              "    </tr>\n",
              "  </tbody>\n",
              "</table>\n",
              "</div>\n",
              "      <button class=\"colab-df-convert\" onclick=\"convertToInteractive('df-8fd4dab9-fe8e-41c4-a651-fd6534c0bc5f')\"\n",
              "              title=\"Convert this dataframe to an interactive table.\"\n",
              "              style=\"display:none;\">\n",
              "        \n",
              "  <svg xmlns=\"http://www.w3.org/2000/svg\" height=\"24px\"viewBox=\"0 0 24 24\"\n",
              "       width=\"24px\">\n",
              "    <path d=\"M0 0h24v24H0V0z\" fill=\"none\"/>\n",
              "    <path d=\"M18.56 5.44l.94 2.06.94-2.06 2.06-.94-2.06-.94-.94-2.06-.94 2.06-2.06.94zm-11 1L8.5 8.5l.94-2.06 2.06-.94-2.06-.94L8.5 2.5l-.94 2.06-2.06.94zm10 10l.94 2.06.94-2.06 2.06-.94-2.06-.94-.94-2.06-.94 2.06-2.06.94z\"/><path d=\"M17.41 7.96l-1.37-1.37c-.4-.4-.92-.59-1.43-.59-.52 0-1.04.2-1.43.59L10.3 9.45l-7.72 7.72c-.78.78-.78 2.05 0 2.83L4 21.41c.39.39.9.59 1.41.59.51 0 1.02-.2 1.41-.59l7.78-7.78 2.81-2.81c.8-.78.8-2.07 0-2.86zM5.41 20L4 18.59l7.72-7.72 1.47 1.35L5.41 20z\"/>\n",
              "  </svg>\n",
              "      </button>\n",
              "      \n",
              "  <style>\n",
              "    .colab-df-container {\n",
              "      display:flex;\n",
              "      flex-wrap:wrap;\n",
              "      gap: 12px;\n",
              "    }\n",
              "\n",
              "    .colab-df-convert {\n",
              "      background-color: #E8F0FE;\n",
              "      border: none;\n",
              "      border-radius: 50%;\n",
              "      cursor: pointer;\n",
              "      display: none;\n",
              "      fill: #1967D2;\n",
              "      height: 32px;\n",
              "      padding: 0 0 0 0;\n",
              "      width: 32px;\n",
              "    }\n",
              "\n",
              "    .colab-df-convert:hover {\n",
              "      background-color: #E2EBFA;\n",
              "      box-shadow: 0px 1px 2px rgba(60, 64, 67, 0.3), 0px 1px 3px 1px rgba(60, 64, 67, 0.15);\n",
              "      fill: #174EA6;\n",
              "    }\n",
              "\n",
              "    [theme=dark] .colab-df-convert {\n",
              "      background-color: #3B4455;\n",
              "      fill: #D2E3FC;\n",
              "    }\n",
              "\n",
              "    [theme=dark] .colab-df-convert:hover {\n",
              "      background-color: #434B5C;\n",
              "      box-shadow: 0px 1px 3px 1px rgba(0, 0, 0, 0.15);\n",
              "      filter: drop-shadow(0px 1px 2px rgba(0, 0, 0, 0.3));\n",
              "      fill: #FFFFFF;\n",
              "    }\n",
              "  </style>\n",
              "\n",
              "      <script>\n",
              "        const buttonEl =\n",
              "          document.querySelector('#df-8fd4dab9-fe8e-41c4-a651-fd6534c0bc5f button.colab-df-convert');\n",
              "        buttonEl.style.display =\n",
              "          google.colab.kernel.accessAllowed ? 'block' : 'none';\n",
              "\n",
              "        async function convertToInteractive(key) {\n",
              "          const element = document.querySelector('#df-8fd4dab9-fe8e-41c4-a651-fd6534c0bc5f');\n",
              "          const dataTable =\n",
              "            await google.colab.kernel.invokeFunction('convertToInteractive',\n",
              "                                                     [key], {});\n",
              "          if (!dataTable) return;\n",
              "\n",
              "          const docLinkHtml = 'Like what you see? Visit the ' +\n",
              "            '<a target=\"_blank\" href=https://colab.research.google.com/notebooks/data_table.ipynb>data table notebook</a>'\n",
              "            + ' to learn more about interactive tables.';\n",
              "          element.innerHTML = '';\n",
              "          dataTable['output_type'] = 'display_data';\n",
              "          await google.colab.output.renderOutput(dataTable, element);\n",
              "          const docLink = document.createElement('div');\n",
              "          docLink.innerHTML = docLinkHtml;\n",
              "          element.appendChild(docLink);\n",
              "        }\n",
              "      </script>\n",
              "    </div>\n",
              "  </div>\n",
              "  "
            ]
          },
          "metadata": {},
          "execution_count": 12
        }
      ]
    },
    {
      "cell_type": "code",
      "source": [
        "cirr_df.shape"
      ],
      "metadata": {
        "colab": {
          "base_uri": "https://localhost:8080/"
        },
        "id": "cTRN-EuRaP44",
        "outputId": "f0bf9490-1c91-40e4-afe0-7d6bffee3a78"
      },
      "execution_count": 13,
      "outputs": [
        {
          "output_type": "execute_result",
          "data": {
            "text/plain": [
              "(418, 20)"
            ]
          },
          "metadata": {},
          "execution_count": 13
        }
      ]
    },
    {
      "cell_type": "markdown",
      "source": [
        "###Dataset Source"
      ],
      "metadata": {
        "id": "YLEWyQ7MaylN"
      }
    },
    {
      "cell_type": "markdown",
      "source": [
        "The dataset can be found [here](https://www.kaggle.com/datasets/fedesoriano/cirrhosis-prediction-dataset)."
      ],
      "metadata": {
        "id": "4UTgFLRvafw-"
      }
    },
    {
      "cell_type": "markdown",
      "source": [
        "###Data Description"
      ],
      "metadata": {
        "id": "lsYHKlsaa0CH"
      }
    },
    {
      "cell_type": "markdown",
      "source": [
        "This dataset is used to predict which stage of cirrhosis a patient has based on various attributes and data collected by each patient.\n",
        "\n",
        "Column name | Description \n",
        "---|---\n",
        "ID| unique identifier\n",
        "N-Days | # of days between registration and the earlier of death, transplantation, or study analysis time in July 1986\n",
        "Status | status of the patient C (censored), CL (censored due to liver tx), or D (death)\n",
        "Drug| type of drug D-penicillamine or placebo\n",
        "Age|age in days\n",
        "Sex|M(male) or F (female)\n",
        "Acites| presence of ascites N (no) or Y (yes)\n",
        "Hepatomegaly | presence of hepatomegaly N (no) or Y (yes)\n",
        "Spiders | presence of spiders N (no) or Y (yes)\n",
        "Edema | presence of edema N (no edema and no diuretic therapy for edema), S (edema present without diuretics, or edema resolved by diuretics), or Y (edema despite diuretic therapy)\n",
        "Bilirubin| serum bilirubin in [mg/dl]\n",
        "Cholesterol | serum cholesterol in [mg/dl]\n",
        "Albumin | albumin in [gm/dl]\n",
        "Copper | urine copper in [ug/day]\n",
        "Alk_Phos | alkaline phosphatase in [U/liter]\n",
        "SGOT| SGOT in [U/ml]\n",
        "Triglycerides| triglicerides in [mg/dl]\n",
        "Platelets | platelets per cubic [ml/1000]\n",
        "Prothrombin| prothrombin time in seconds \n",
        "Stage | histologic stage of disease (1, 2, 3, or 4)"
      ],
      "metadata": {
        "id": "7ZjhdUkKhHUU"
      }
    },
    {
      "cell_type": "markdown",
      "source": [
        "###Target"
      ],
      "metadata": {
        "id": "6AasnOv3nIYb"
      }
    },
    {
      "cell_type": "markdown",
      "source": [
        "The target variable will be the `stage` column to predict what stage of the disease a patient has."
      ],
      "metadata": {
        "id": "RP-XY9lwnfOt"
      }
    },
    {
      "cell_type": "markdown",
      "source": [
        "###Row Represents"
      ],
      "metadata": {
        "id": "6LbrLR-Lnopq"
      }
    },
    {
      "cell_type": "markdown",
      "source": [
        "A single row represents a patient with Cirrhosis."
      ],
      "metadata": {
        "id": "YvDY8QO1ntOx"
      }
    },
    {
      "cell_type": "markdown",
      "source": [
        "###Type of Problem"
      ],
      "metadata": {
        "id": "V--dPiU-oAqZ"
      }
    },
    {
      "cell_type": "markdown",
      "source": [
        "This will be a classification problem to determine what stage of cirrhosis the patient has."
      ],
      "metadata": {
        "id": "qe-JJu83oB4n"
      }
    },
    {
      "cell_type": "markdown",
      "source": [
        "###Number of Features"
      ],
      "metadata": {
        "id": "mdrQLN8UoFT7"
      }
    },
    {
      "cell_type": "markdown",
      "source": [
        "There are 19 features associated with the dataset. However, some features may not be applicable to machine learning modeling."
      ],
      "metadata": {
        "id": "VWM1y-4ooJRP"
      }
    },
    {
      "cell_type": "markdown",
      "source": [
        "###Number of Rows"
      ],
      "metadata": {
        "id": "H-84Zvf9onUl"
      }
    },
    {
      "cell_type": "markdown",
      "source": [
        "There are 418 rows in the dataset."
      ],
      "metadata": {
        "id": "PRIfmgXpoo5N"
      }
    },
    {
      "cell_type": "markdown",
      "source": [
        "###Potential Challenges"
      ],
      "metadata": {
        "id": "9MNx754KosE9"
      }
    },
    {
      "cell_type": "code",
      "source": [
        "cirr_df['Stage'].value_counts()"
      ],
      "metadata": {
        "colab": {
          "base_uri": "https://localhost:8080/"
        },
        "id": "dst79Jz-qm_g",
        "outputId": "fc4ecf6e-cda1-47db-f2b7-722dc6484571"
      },
      "execution_count": 15,
      "outputs": [
        {
          "output_type": "execute_result",
          "data": {
            "text/plain": [
              "3.0    155\n",
              "4.0    144\n",
              "2.0     92\n",
              "1.0     21\n",
              "Name: Stage, dtype: int64"
            ]
          },
          "metadata": {},
          "execution_count": 15
        }
      ]
    },
    {
      "cell_type": "markdown",
      "source": [
        "- Limited amount of data.\n",
        "- Balance across the stage types (target) is skewed."
      ],
      "metadata": {
        "id": "EBbSIataouVP"
      }
    }
  ]
}